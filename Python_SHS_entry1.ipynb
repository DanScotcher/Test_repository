{
 "cells": [
  {
   "cell_type": "markdown",
   "id": "a1c14064-dcba-46be-bc81-767d05de8ecd",
   "metadata": {
    "editable": true,
    "slideshow": {
     "slide_type": ""
    },
    "tags": []
   },
   "source": [
    "# Introduction - Exemplar answers\n",
    "\n",
    "This notebook provides example answers for the coding skills workshop. You can edit this further to explore the Python language in more detail. "
   ]
  },
  {
   "cell_type": "markdown",
   "id": "2595d5a9-15c3-474e-919f-26ab08f8ca8c",
   "metadata": {},
   "source": [
    "## Task 1\n",
    "Use the print() function to display the text \"Hello, world\" in the console (https://en.wikipedia.org/wiki/%22Hello,_World!%22_program)"
   ]
  },
  {
   "cell_type": "code",
   "execution_count": 2,
   "id": "5d386f4f-5ca2-461c-8b11-df40390759c6",
   "metadata": {},
   "outputs": [
    {
     "name": "stdout",
     "output_type": "stream",
     "text": [
      "hello, world\n"
     ]
    }
   ],
   "source": [
    "print(\"hello, world\")"
   ]
  },
  {
   "cell_type": "markdown",
   "id": "c8d0dac5-d15b-4e08-b57e-ced582f0f2d0",
   "metadata": {},
   "source": [
    "## Task 2\n",
    "- Assign two different numbers to new variables in the Python namespace [i.e., store two numbers on the computer]\n",
    "- Apply mathematical operators to these numbers, assign the results to new variables, and print the results [i.e., add the numbers together, and/or subtract, multiply, divide, etc]\n",
    "\n",
    "*Note - the ^ symbol does not take power in Python. Instead ** should be used*"
   ]
  },
  {
   "cell_type": "code",
   "execution_count": 8,
   "id": "8d6ed551-00d0-4850-83be-92f649ab65ee",
   "metadata": {},
   "outputs": [
    {
     "name": "stdout",
     "output_type": "stream",
     "text": [
      "a+b = 22\n",
      "a/b = 0.29411764705882354\n",
      "a**b = 1419857\n"
     ]
    }
   ],
   "source": [
    "a = 5\n",
    "b = 17\n",
    "c = a + b\n",
    "print(\"a+b =\",c)\n",
    "d = a/b\n",
    "print(\"a/b =\",d)\n",
    "f = b**a\n",
    "print(\"a**b =\",f)"
   ]
  },
  {
   "cell_type": "code",
   "execution_count": null,
   "id": "23771677-bda7-4ae8-9b20-dbacfddeba4a",
   "metadata": {},
   "outputs": [],
   "source": []
  }
 ],
 "metadata": {
  "kernelspec": {
   "display_name": "Python 3 (ipykernel)",
   "language": "python",
   "name": "python3"
  },
  "language_info": {
   "codemirror_mode": {
    "name": "ipython",
    "version": 3
   },
   "file_extension": ".py",
   "mimetype": "text/x-python",
   "name": "python",
   "nbconvert_exporter": "python",
   "pygments_lexer": "ipython3",
   "version": "3.12.3"
  },
  "panel-cell-order": [
   "9ef4a8fd-1c7c-43c6-b6f7-2a20ed69ec3c"
  ]
 },
 "nbformat": 4,
 "nbformat_minor": 5
}
